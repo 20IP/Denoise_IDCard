{
 "cells": [
  {
   "cell_type": "code",
   "execution_count": 9,
   "metadata": {},
   "outputs": [
    {
     "name": "stdout",
     "output_type": "stream",
     "text": [
      " Create Images .........!\n",
      "*........ Done .......*\n"
     ]
    }
   ],
   "source": [
    "from PIL import ImageFont, ImageDraw, Image \n",
    "from random import randrange\n",
    "import cv2  \n",
    "import numpy as np  \n",
    "import matplotlib.pyplot as plt\n",
    "\n",
    "# text = [0, 1 , 2, 3, 4, 5, 6, 7, 8, 9]\n",
    "# array = np.array(text)\n",
    "\n",
    "# Load image in OpenCV  \n",
    " \n",
    "font = ImageFont.truetype(\"/home/administrator/.local/share/fonts/Rasa-Medium.ttf\", 55)  \n",
    "path = '/home/administrator/Desktop/Pham_Thai/Project/Resolution_CMND/Image_Generator/'\n",
    "k = 0\n",
    "print(\" Create Images .........!\")\n",
    "fill_x = (12, 33, 57)\n",
    "while k < 2000:\n",
    "\n",
    "    image = cv2.imread(\"background2.jpg\")  \n",
    "    cv2_im_rgb = cv2.cvtColor(image,cv2.COLOR_BGR2RGB)  \n",
    "    pil_im = Image.fromarray(cv2_im_rgb)  \n",
    "    draw = ImageDraw.Draw(pil_im) \n",
    "    j = 0\n",
    "    for i in range (0, 10):\n",
    "        random = randrange(10)\n",
    "        if (i == 0) and (random == 0):\n",
    "            random = randrange(10)\n",
    "            draw.text((j + 17 , -5), str(random), font=font, fill = fill_x) \n",
    "        else :\n",
    "            draw.text((j + 17 , -5), str(random), font=font, fill = fill_x) \n",
    "        j += 32\n",
    "    cv2_im_processed = cv2.cvtColor(np.array(pil_im), cv2.COLOR_RGB2BGR)\n",
    "    cv2.imwrite(path + str(k) + '_13.jpg', cv2_im_processed)\n",
    "    k += 1\n",
    "\n",
    "# cv2.imshow('Fonts', cv2_im_processed)  \n",
    "# cv2.waitKey(0)  \n",
    "# cv2.destroyAllWindows()\n",
    "print(\"*........ Done .......*\")"
   ]
  },
  {
   "cell_type": "code",
   "execution_count": null,
   "metadata": {},
   "outputs": [],
   "source": []
  }
 ],
 "metadata": {
  "kernelspec": {
   "display_name": "Python 3",
   "language": "python",
   "name": "python3"
  },
  "language_info": {
   "codemirror_mode": {
    "name": "ipython",
    "version": 3
   },
   "file_extension": ".py",
   "mimetype": "text/x-python",
   "name": "python",
   "nbconvert_exporter": "python",
   "pygments_lexer": "ipython3",
   "version": "3.7.3"
  }
 },
 "nbformat": 4,
 "nbformat_minor": 2
}
